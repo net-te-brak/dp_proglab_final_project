{
 "cells": [
  {
   "cell_type": "markdown",
   "id": "d3c50066",
   "metadata": {},
   "source": [
    "# How did life expectancy and fertility change between 1964 - 2013 for different countries and continents?\n",
    "## What region developed the most in this time period?"
   ]
  },
  {
   "cell_type": "markdown",
   "id": "fca99077",
   "metadata": {},
   "source": [
    "Annette Brak <br> 12146218 <br> 14-12-2022"
   ]
  },
  {
   "cell_type": "markdown",
   "id": "3f6ba4ca",
   "metadata": {},
   "source": [
    "# Data\n",
    "### Loading in data"
   ]
  },
  {
   "cell_type": "code",
   "execution_count": 1,
   "id": "ffd99f08",
   "metadata": {},
   "outputs": [],
   "source": [
    "from os.path import dirname, join\n",
    "import pandas as pd\n",
    "import geopandas as gpd"
   ]
  },
  {
   "cell_type": "markdown",
   "id": "de4e16f2",
   "metadata": {},
   "source": [
    "Loading the given Gapminder data"
   ]
  },
  {
   "cell_type": "code",
   "execution_count": 2,
   "id": "ae1b066d",
   "metadata": {},
   "outputs": [],
   "source": [
    "# load file (for bokeh server)\n",
    "gapminder_load = pd.read_csv(join(dirname(__file__), 'data/gapminder.csv'))"
   ]
  },
  {
   "cell_type": "code",
   "execution_count": 3,
   "id": "63c20a5f",
   "metadata": {},
   "outputs": [],
   "source": [
    "# select only columns of interest\n",
    "df_gapminder = gapminder_load[['ID', 'Country', 'Year', 'lifeExp', 'Fertility', 'Region']].copy()\n",
    "df_gapminder.rename(columns = {'lifeExp':'Life_Exp'}, inplace = True)"
   ]
  },
  {
   "cell_type": "markdown",
   "id": "e470c64c",
   "metadata": {},
   "source": [
    "Loading geometry data from [Our Natural Earth](https://www.naturalearthdata.com/downloads/10m-cultural-vectors/10m-admin-0-countries/) for plotting a world map"
   ]
  },
  {
   "cell_type": "code",
   "execution_count": 4,
   "id": "76668418",
   "metadata": {},
   "outputs": [],
   "source": [
    "# load file (for bokeh server)\n",
    "gpd_load = gpd.read_file(join(dirname(__file__), 'data/countries_10m/ne_10m_admin_0_countries.shp'))"
   ]
  },
  {
   "cell_type": "code",
   "execution_count": 5,
   "id": "86bf356f",
   "metadata": {},
   "outputs": [],
   "source": [
    "# Select only columns of interest\n",
    "geo_data_raw = gpd_load[['SOV_A3', 'ADMIN', 'geometry']]\n",
    "geo_data_raw.columns = ['ID', 'Country', 'geometry']"
   ]
  },
  {
   "cell_type": "markdown",
   "id": "23302e7c",
   "metadata": {},
   "source": [
    "### Cleaning up data"
   ]
  },
  {
   "cell_type": "markdown",
   "id": "4d231410",
   "metadata": {},
   "source": [
    "The country names and IDs in both these datasets do not correspond. To make sure they do before merging, I used the [country converter](https://github.com/konstantinstadler/country_converter) package to easily convert these values in both datasets."
   ]
  },
  {
   "cell_type": "code",
   "execution_count": 6,
   "id": "2823ed68",
   "metadata": {},
   "outputs": [],
   "source": [
    "import country_converter as coco\n",
    "import logging"
   ]
  },
  {
   "cell_type": "markdown",
   "id": "801300bc",
   "metadata": {},
   "source": [
    "By default, the country converter gives an error for all values where no match is found, but these issues are not critical for its performance and will be solved separately. These warnings can therefore be suppressed."
   ]
  },
  {
   "cell_type": "code",
   "execution_count": 7,
   "id": "a4425422",
   "metadata": {},
   "outputs": [],
   "source": [
    "# set country converter warning to only show critical warnings \n",
    "coco_logger = coco.logging.getLogger()\n",
    "coco_logger.setLevel(logging.CRITICAL)"
   ]
  },
  {
   "cell_type": "markdown",
   "id": "e585de28",
   "metadata": {},
   "source": [
    "#### Gapminder data"
   ]
  },
  {
   "cell_type": "code",
   "execution_count": 8,
   "id": "e71ef6e7",
   "metadata": {},
   "outputs": [],
   "source": [
    "# replace country names with their official, shortened, names\n",
    "df_gapminder['Country'] = coco.convert(names = df_gapminder['Country'], to = 'name_short', not_found = None)\n",
    "\n",
    "# replace country IDs with their official ISO alpha-2 codes\n",
    "df_gapminder['ID'] = coco.convert(names = df_gapminder['Country'], to = 'ISO2', not_found = None)"
   ]
  },
  {
   "cell_type": "markdown",
   "id": "fc2e31d7",
   "metadata": {},
   "source": [
    "Two countries are cannot be matched: the Channel Islands (consisting of separate countries beloning to the UK) and the Netherlands Antilles (broken up into individual countries in 2010). The Channel Islands have no official ISO code anymore, but their previous ISO alpha-3 code was GB-CHA. The Netherlands Antilles used to have ISO alpha-2 code AN."
   ]
  },
  {
   "cell_type": "code",
   "execution_count": 9,
   "id": "457b056f",
   "metadata": {},
   "outputs": [],
   "source": [
    "# convert Channel islands\n",
    "cha_mask = df_gapminder['ID'] == 'Channel Islands'\n",
    "df_gapminder.loc[cha_mask, 'ID'] = 'GB-CHA'"
   ]
  },
  {
   "cell_type": "code",
   "execution_count": 10,
   "id": "ac43160e",
   "metadata": {},
   "outputs": [],
   "source": [
    "# convert antilles ID to AN\n",
    "an_mask = df_gapminder['ID'] == 'Netherlands Antilles'\n",
    "df_gapminder.loc[an_mask, 'ID'] = 'AN'"
   ]
  },
  {
   "cell_type": "markdown",
   "id": "68557fac",
   "metadata": {},
   "source": [
    "#### Geodata"
   ]
  },
  {
   "cell_type": "markdown",
   "id": "97c9867f",
   "metadata": {},
   "source": [
    "Several French areas are labeled as country 'France' on the map. In our gapminder dataset, some of these areas are separately defined with their own data. Therefore, I separated the 'France' geometry data into these separately defined areas as their own countries."
   ]
  },
  {
   "cell_type": "code",
   "execution_count": 11,
   "id": "ee59b869",
   "metadata": {},
   "outputs": [],
   "source": [
    "# exploding the entry for france from one multipolygon into single polygons\n",
    "fr_exploded = (geo_data_raw[geo_data_raw['Country'] == 'France'].explode(ignore_index = True))"
   ]
  },
  {
   "cell_type": "markdown",
   "id": "28c7761a",
   "metadata": {},
   "source": [
    "Plotting these areas on a map and comparing them to Google Maps allowed me to see which rows corresponded to which area(s). This did mean that I had to hard code these areas, as I could not find an efficient way to soft code this part."
   ]
  },
  {
   "cell_type": "code",
   "execution_count": 12,
   "id": "e3d7363d",
   "metadata": {},
   "outputs": [],
   "source": [
    "# renaming the indices accordingly\n",
    "fr_exploded.iloc[0,0] = 'GF'\n",
    "fr_exploded.iloc[0,1] = 'French Guiana'\n",
    "\n",
    "fr_exploded.iloc[2,0] = 'MQ'\n",
    "fr_exploded.iloc[2,1] = 'Martinique'\n",
    "\n",
    "fr_exploded.iloc[[3,4,5,6,18,19],0] = 'GP'\n",
    "fr_exploded.iloc[[3,4,5,6,18,19],1] = 'Guadeloupe'\n",
    "\n",
    "fr_exploded.iloc[7,0] = 'RE'\n",
    "fr_exploded.iloc[7,1] = 'Reunion'\n",
    "\n",
    "fr_exploded.iloc[9,0] = 'YT'\n",
    "fr_exploded.iloc[9,1] = 'Mayotte'"
   ]
  },
  {
   "cell_type": "code",
   "execution_count": 13,
   "id": "7864297a",
   "metadata": {},
   "outputs": [],
   "source": [
    "# dissolving the data to recombine corresponding areas into multipolygons\n",
    "fr_dissolved = fr_exploded.dissolve(by = 'Country', as_index = False)"
   ]
  },
  {
   "cell_type": "markdown",
   "id": "2bef1951",
   "metadata": {},
   "source": [
    "The easiest way to replace the data in the original geo data is to remove the original entry for France and append our newly specified set of separated areas."
   ]
  },
  {
   "cell_type": "code",
   "execution_count": 14,
   "id": "9ed38815",
   "metadata": {},
   "outputs": [],
   "source": [
    "# removing 'France' entry from dataset\n",
    "geo_data_raw = geo_data_raw.loc[~(geo_data_raw['Country'] == 'France')]"
   ]
  },
  {
   "cell_type": "code",
   "execution_count": 15,
   "id": "4d1692c0",
   "metadata": {},
   "outputs": [],
   "source": [
    "# append our newly defined entries for france and french areas\n",
    "geo_data = geo_data_raw.append(fr_dissolved)"
   ]
  },
  {
   "cell_type": "markdown",
   "id": "4aa9f29c",
   "metadata": {},
   "source": [
    "Antarctica takes up a lot of space on the map, but the Gapminder dataset has no recorded data on it. To make the map easier to read, I removed it from the map."
   ]
  },
  {
   "cell_type": "code",
   "execution_count": 16,
   "id": "06c55728",
   "metadata": {},
   "outputs": [],
   "source": [
    "geo_data = geo_data.loc[~(geo_data_raw['ID'] == 'ATA')]"
   ]
  },
  {
   "cell_type": "markdown",
   "id": "b8288cee",
   "metadata": {},
   "source": [
    "Now, to replace the country names and IDs so they match the Gapminder data."
   ]
  },
  {
   "cell_type": "code",
   "execution_count": 17,
   "id": "c7afb81b",
   "metadata": {},
   "outputs": [],
   "source": [
    "# replace country names with their official, shortened, names\n",
    "geo_data['Country'] = coco.convert(names = geo_data['Country'], to = 'name_short', not_found = None)\n",
    "\n",
    "# replace country IDs with their official ISO alpha-2 codes\n",
    "geo_data['ID'] = coco.convert(names = geo_data['Country'], to = 'ISO2', not_found = None)"
   ]
  },
  {
   "cell_type": "markdown",
   "id": "65353254",
   "metadata": {},
   "source": [
    "In our Gapminder dataset, the Channel Islands and the Netherlands Antilles are taken together as one country, whereas on our map these are separated into different countries. To best display our recorded data, we will count these countries under the areas defined in the Gapminder dataset."
   ]
  },
  {
   "cell_type": "code",
   "execution_count": 18,
   "id": "2210676a",
   "metadata": {},
   "outputs": [],
   "source": [
    "# convert Curacao and Sint Maarten back to Netherlands Antilles\n",
    "sx_cw_mask = (geo_data['ID'] == 'SX') | (geo_data['ID'] == 'CW')\n",
    "geo_data.loc[sx_cw_mask, 'ID'] = 'AN'\n",
    "geo_data.loc[sx_cw_mask, 'Country'] = 'Netherlands Antilles'"
   ]
  },
  {
   "cell_type": "code",
   "execution_count": 19,
   "id": "dbfaae05",
   "metadata": {},
   "outputs": [],
   "source": [
    "# convert Jersey and and Guernsey back to Channel Islands\n",
    "je_gg_mask = (geo_data['ID'] == 'JE') | (geo_data['ID'] == 'GG')\n",
    "geo_data.loc[je_gg_mask, 'ID'] = 'GB-CHA'\n",
    "geo_data.loc[je_gg_mask, 'Country'] = 'Channel Islands'"
   ]
  },
  {
   "cell_type": "markdown",
   "id": "140c189c",
   "metadata": {},
   "source": [
    "Note: not all regions in the geometry dataset are matched in the country conversion database. However, after these edits, all countries recorded in the Gapminder dataset are represented in the geometry dataset."
   ]
  },
  {
   "cell_type": "markdown",
   "id": "b1039d19",
   "metadata": {},
   "source": [
    "# Merging the data"
   ]
  },
  {
   "cell_type": "code",
   "execution_count": 20,
   "id": "825d9c8d",
   "metadata": {},
   "outputs": [],
   "source": [
    "# merging geo and gapminder data\n",
    "df_full_raw = geo_data.merge(df_gapminder, on = 'ID', how = 'left')"
   ]
  },
  {
   "cell_type": "markdown",
   "id": "51d84c2d",
   "metadata": {},
   "source": [
    "As a result of the merge, two columns for country names are now in our dataset. One of these can be dropped, since country names for areas with recorded data coincide with those in the geometry data."
   ]
  },
  {
   "cell_type": "code",
   "execution_count": 21,
   "id": "a51841fb",
   "metadata": {},
   "outputs": [],
   "source": [
    "# drop last country column, rename leftover country column\n",
    "df_full = df_full_raw.drop(columns = 'Country_y')\n",
    "df_full = df_full.rename(columns = {'Country_x': 'Country'})"
   ]
  },
  {
   "cell_type": "markdown",
   "id": "ec51b29b",
   "metadata": {},
   "source": [
    "Some countries appear in the dataset twice, once with recorded data and once without. To combine these rows, I first fill NaN values in the Year column, so countries without any recorded data are not lost. Then, I grouped data by country and year, taking the first non-NaN values for each of these groups."
   ]
  },
  {
   "cell_type": "code",
   "execution_count": 22,
   "id": "8191112d",
   "metadata": {},
   "outputs": [],
   "source": [
    "# fill NaN year values for countries without recorded data\n",
    "df_full['Year'] = df_full['Year'].fillna('No data')"
   ]
  },
  {
   "cell_type": "code",
   "execution_count": 23,
   "id": "90f17a88",
   "metadata": {},
   "outputs": [],
   "source": [
    "# group data, take first non-empty value if found\n",
    "df_clean = df_full.groupby(['Country', 'Year']).first().reset_index()"
   ]
  },
  {
   "cell_type": "markdown",
   "id": "512a570a",
   "metadata": {},
   "source": [
    "# Preparing world map plot"
   ]
  },
  {
   "cell_type": "code",
   "execution_count": 52,
   "id": "2c09c484",
   "metadata": {},
   "outputs": [],
   "source": [
    "import json\n",
    "from bokeh.palettes import brewer, Bokeh\n",
    "from bokeh.models import (GeoJSONDataSource, LinearColorMapper, ColorBar, FixedTicker, HoverTool, Slider, Legend, Tabs, TabPanel)"
   ]
  },
  {
   "cell_type": "markdown",
   "id": "f65ac22e",
   "metadata": {},
   "source": [
    "In the world map, you will be able to filter the data per year. To continuously update, I made a function for filtering the data. I also created a slider tool to select the preferred year(s) with."
   ]
  },
  {
   "cell_type": "code",
   "execution_count": 53,
   "id": "64024873",
   "metadata": {},
   "outputs": [],
   "source": [
    "def filter_data(df, yr):\n",
    "    \"\"\" Filters entries given (geo)dataframe in a given year, returns json of filtered data\"\"\"\n",
    "    year_mask = df['Year'].isin(['No data', yr])\n",
    "    df_year = df[year_mask]\n",
    "    df_filtered = df_year.to_json()\n",
    "    return df_filtered\n",
    "\n",
    "df_2013 = filter_data(df_clean, 2013)"
   ]
  },
  {
   "cell_type": "code",
   "execution_count": 54,
   "id": "325fdc33",
   "metadata": {},
   "outputs": [],
   "source": [
    "# create slider for filtering by year\n",
    "slider = Slider(title = 'Year', start = 1964, end = 2013, step = 1, value = 2013)"
   ]
  },
  {
   "cell_type": "markdown",
   "id": "a1ebdc96",
   "metadata": {},
   "source": [
    "The color palettes for both the Fertility and the Life Expectancy maps are easier to create before plotting, just like the Hover tool for both maps."
   ]
  },
  {
   "cell_type": "code",
   "execution_count": 55,
   "id": "4c24df3c",
   "metadata": {},
   "outputs": [],
   "source": [
    "# load reversed brewer palette for both maps\n",
    "F_palette = brewer['RdPu'][9][::-1]\n",
    "LE_palette = brewer['GnBu'][9][::-1]\n",
    "\n",
    "# create hover tool to be used for both world maps\n",
    "F_hover = HoverTool(tooltips = [('Country', '@Country (@ID)'), ('Fertility rate', '@Fertility')])\n",
    "LE_hover = HoverTool(tooltips = [('Country', '@Country (@ID)'), ('Life Expectancy', '@Life_Exp')])"
   ]
  },
  {
   "cell_type": "markdown",
   "id": "fa29d9a4",
   "metadata": {},
   "source": [
    "By default, the world map will be plotted for 2013."
   ]
  },
  {
   "cell_type": "code",
   "execution_count": 56,
   "id": "6381e7a0",
   "metadata": {},
   "outputs": [],
   "source": [
    "# input source for map plotting\n",
    "geo_source = GeoJSONDataSource(geojson = df_2013)"
   ]
  },
  {
   "cell_type": "markdown",
   "id": "07a6604f",
   "metadata": {},
   "source": [
    "# Plotting the world map"
   ]
  },
  {
   "cell_type": "code",
   "execution_count": 57,
   "id": "6efd139b",
   "metadata": {
    "scrolled": false
   },
   "outputs": [],
   "source": [
    "def plot_map(statistic, low, high, step):\n",
    "    \n",
    "    if statistic == 'F':\n",
    "        palette = F_palette\n",
    "        hover = F_hover\n",
    "        name = 'fertility rate'\n",
    "        col = 'Fertility'\n",
    "        \n",
    "    elif statistic == 'LE':\n",
    "        palette = LE_palette\n",
    "        hover = LE_hover\n",
    "        name = 'life expectancy'\n",
    "        col = 'Life_Exp'\n",
    "    \n",
    "    # define color map for plot\n",
    "    color_map = LinearColorMapper(palette = palette, low = low, high = high, nan_color = '#d9d9d9')\n",
    "    \n",
    "    # set ticks for color bar based on data range\n",
    "    ticks = list(range(low, high+1, step))\n",
    "    color_ticks = FixedTicker(ticks=ticks)\n",
    "    \n",
    "    # create world map figure\n",
    "    p_map = figure(title = f'Global {name}', width = 750, height = 450, x_range = (-182,182), y_range = (-60, 85),\n",
    "               toolbar_location = 'right', tools = 'pan, wheel_zoom, reset', active_scroll = 'wheel_zoom')\n",
    "\n",
    "    p_map.xgrid.grid_line_color = None\n",
    "    p_map.ygrid.grid_line_color = None\n",
    "    p_map.axis.visible = False\n",
    "    \n",
    "    # plot countries as patches\n",
    "    patches = p_map.patches('xs','ys', source = geo_source, fill_color = {'field': col, 'transform': color_map},\n",
    "                        line_color = 'black', line_width = 0.25, fill_alpha = 1, hover_line_width = 3, hover_alpha = 0.75)\n",
    "\n",
    "    # create color bar \n",
    "    color_bar = ColorBar(color_mapper = color_map, width = 500, height = 10, orientation = 'horizontal', location = 'center',\n",
    "                         ticker = color_ticks, major_label_overrides = {40: '<40'})\n",
    "    \n",
    "    p_map.add_layout(color_bar, 'below')\n",
    "    \n",
    "    # add hover tool\n",
    "    p_map.add_tools(hover)\n",
    "\n",
    "    return p_map"
   ]
  },
  {
   "cell_type": "markdown",
   "id": "276b4da8",
   "metadata": {},
   "source": [
    "Interactivity will be done using a Bokeh server. Using a python function, the map will be updated for the year selected by using the slider."
   ]
  },
  {
   "cell_type": "code",
   "execution_count": 58,
   "id": "50e4b50f",
   "metadata": {},
   "outputs": [],
   "source": [
    "# update world map input\n",
    "def update_year(attr, old, new):\n",
    "    \"\"\"Re-plots world map for selected year\"\"\"\n",
    "    yr = slider.value\n",
    "    new_data = filter_data(df_clean, yr)\n",
    "    geo_source.geojson = new_data\n",
    "\n",
    "# inputs to above function when slider value changes\n",
    "slider.on_change('value_throttled', update_year)"
   ]
  },
  {
   "cell_type": "markdown",
   "id": "dde48766",
   "metadata": {},
   "source": [
    "# Preparing regional graph plots"
   ]
  },
  {
   "cell_type": "markdown",
   "id": "e632ff30",
   "metadata": {},
   "source": [
    "I will also plot the average changes in both Fertility and Life Expectancy per region, and on a global level. For this, I first created a new dataset with only regional averages per year."
   ]
  },
  {
   "cell_type": "code",
   "execution_count": 59,
   "id": "8cc440d8",
   "metadata": {},
   "outputs": [],
   "source": [
    "# get average values for life expectancy and fertility per region\n",
    "df_regions = df_clean.groupby(['Region', 'Year'], as_index = False)[['Life_Exp', 'Fertility']].mean()\n",
    "\n",
    "# calculate global averages by averaging all regions\n",
    "global_means = df_regions.groupby('Year', as_index = False)[['Life_Exp', 'Fertility']].mean()\n",
    "\n",
    "# region column gets lost in last step: re-add column\n",
    "global_means['Region'] = 'Global'\n",
    "\n",
    "# combine both regional and global data into one dataset\n",
    "total_growth = df_regions.append(global_means)"
   ]
  },
  {
   "cell_type": "markdown",
   "id": "985fc83b",
   "metadata": {},
   "source": [
    "I also defined a new function to easily calculate the differences between 2013 and 1964 for each region."
   ]
  },
  {
   "cell_type": "code",
   "execution_count": 60,
   "id": "416a80f4",
   "metadata": {},
   "outputs": [],
   "source": [
    "def calculate_growth(region, col):\n",
    "    \"\"\"Calculates numerical difference in value between first measured year (1964) and last measured year (2013)\n",
    "    for any given region and numerical column\"\"\"\n",
    "    region_mask = total_growth['Region'] == region\n",
    "    selected_region = total_growth[region_mask]\n",
    "    \n",
    "    first_mask = selected_region['Year'] == 1964\n",
    "    last_mask = selected_region['Year'] == 2013\n",
    "    \n",
    "    starting_value = selected_region.loc[first_mask, col].item()\n",
    "    end_value = selected_region.loc[last_mask, col].item()\n",
    "    growth = end_value - starting_value\n",
    "    \n",
    "    return round(growth, 2)"
   ]
  },
  {
   "cell_type": "markdown",
   "id": "284eb037",
   "metadata": {},
   "source": [
    "# Plot regional graphs"
   ]
  },
  {
   "cell_type": "code",
   "execution_count": 61,
   "id": "44f443e3",
   "metadata": {},
   "outputs": [],
   "source": [
    "def plot_graph(statistic):\n",
    "    \n",
    "    if statistic == 'F':\n",
    "        col = 'Fertility'\n",
    "        name = 'Fertility rate'\n",
    "        legend_loc = 'left'\n",
    "        y_range = (0, 9)\n",
    "        change_icon = '↓'\n",
    "        \n",
    "    elif statistic == 'LE':\n",
    "        y_range = (40, 80)\n",
    "        col = 'Life_Exp'\n",
    "        name = 'Life expectancy'\n",
    "        legend_loc = 'right'\n",
    "        change_icon = '↑'\n",
    "    \n",
    "    # set up Hover tool to be used in figure\n",
    "    hover_setup = HoverTool(tooltips = [('Year', '@x'), (name, '@y')])\n",
    "    \n",
    "    # import reverse Bokeh palette\n",
    "    palette = Bokeh[6][::-1]\n",
    "    \n",
    "    # get list of unique regions in dataset\n",
    "    region_list = total_growth['Region'].unique()\n",
    "    \n",
    "    # get all years in dataset for x axis\n",
    "    xs = total_growth['Year'].unique()\n",
    "    \n",
    "    # create figure graphs will be plotted in\n",
    "    p_graph = figure(title = f'{name} from 1964 - 2013', height = 450, width = 750, x_range = (1964, 2013),\n",
    "                     toolbar_location = 'above', tools = 'pan, wheel_zoom, reset', active_scroll = 'wheel_zoom')\n",
    "    \n",
    "    p_graph.xaxis.axis_label = 'Year'\n",
    "    p_graph.yaxis.axis_label = name\n",
    "    \n",
    "    # add legend layout before plotting lines\n",
    "    # note: allows legend to be outside of plot\n",
    "    p_graph.add_layout(Legend(), legend_loc)\n",
    "    \n",
    "    # loop over regions for plotting\n",
    "    for region, i in zip(region_list, range(0, len(region_list))):\n",
    "        \n",
    "        # global data is to be displayed differently than regional data\n",
    "        if region == 'Global':\n",
    "            color = 'black'\n",
    "            dash = 'dashed'\n",
    "            \n",
    "        else:\n",
    "            color = palette[i]\n",
    "            dash = 'solid'\n",
    "        \n",
    "        # calculate overall change in measured value, store result in label > will be displayed in legend\n",
    "        growth = calculate_growth(region, col)\n",
    "        label_with_growth = f'{region}\\t({growth} {change_icon})'\n",
    "        \n",
    "        # get data values for given region and column\n",
    "        region_mask = total_growth['Region'] == region\n",
    "        y = total_growth.loc[region_mask, col]\n",
    "        \n",
    "        # plot line, keep line invisible in plot\n",
    "        line = p_graph.line(xs, y, legend_label = label_with_growth, color = color, line_width = 3, line_dash = dash)\n",
    "        line.visible = False\n",
    "        \n",
    "        # plot circles for hovering purposes, keep circles invisible in plot\n",
    "        circle = p_graph.circle(xs, y, size = 15, fill_color = 'white', legend_label = label_with_growth, line_color = None,\n",
    "                       fill_alpha = 0, hover_line_color = color, hover_fill_color = color, hover_alpha = 1)\n",
    "        circle.visible = False\n",
    "    \n",
    "    # hide lines by clicking on legend iteration\n",
    "    p_graph.legend.click_policy = 'hide'\n",
    "    \n",
    "    # add hover tool to figure\n",
    "    p_graph.add_tools(hover_setup)\n",
    "\n",
    "    return p_graph"
   ]
  },
  {
   "cell_type": "markdown",
   "id": "be0da754",
   "metadata": {},
   "source": [
    "# Creating final layout"
   ]
  },
  {
   "cell_type": "code",
   "execution_count": 66,
   "id": "367724e2",
   "metadata": {},
   "outputs": [],
   "source": [
    "from bokeh.layouts import gridplot, row\n",
    "from bokeh.plotting import figure, curdoc"
   ]
  },
  {
   "cell_type": "markdown",
   "id": "f08a54a7",
   "metadata": {},
   "source": [
    "I will be creating a layout with two tabs: on the first tab world maps for both Fertility rates and Life Expectancy, on the second tab two graphs showing regional (and global) developments in Fertility rates and Life Expectancy over the years."
   ]
  },
  {
   "cell_type": "code",
   "execution_count": 62,
   "id": "d5613856",
   "metadata": {},
   "outputs": [],
   "source": [
    "# plot world maps\n",
    "F_plot = plot_map('F', 0, 9, 1)\n",
    "LE_plot = plot_map('LE', 40, 85, 5)\n",
    "\n",
    "# plot regional graphs\n",
    "F_graph = plot_graph('F')\n",
    "LE_graph = plot_graph('LE')"
   ]
  },
  {
   "cell_type": "code",
   "execution_count": 63,
   "id": "6951914b",
   "metadata": {},
   "outputs": [],
   "source": [
    "# create first tab for both world maps\n",
    "tab_map = TabPanel(title = \"World Map\",\n",
    "               child = gridplot([[F_plot, LE_plot], [slider]]))\n",
    "\n",
    "# create second tab for both regional graphs\n",
    "tab_graph = TabPanel(title = \"Regional Development\", child = row(F_graph, LE_graph))\n",
    "\n",
    "# store both tabs in final layout\n",
    "final_layout = Tabs(tabs = [tab_map, tab_graph])"
   ]
  },
  {
   "cell_type": "markdown",
   "id": "2be80177",
   "metadata": {},
   "source": [
    "Finally, the layout should be rendered in an active Bokeh server for the interactive slider to work."
   ]
  },
  {
   "cell_type": "code",
   "execution_count": 67,
   "id": "41480fb4",
   "metadata": {},
   "outputs": [
    {
     "ename": "RuntimeError",
     "evalue": "Models must be owned by only a single document, ColumnDataSource(id='p10205', ...) is already in a doc",
     "output_type": "error",
     "traceback": [
      "\u001b[1;31m---------------------------------------------------------------------------\u001b[0m",
      "\u001b[1;31mRuntimeError\u001b[0m                              Traceback (most recent call last)",
      "\u001b[1;32m~\\AppData\\Local\\Temp/ipykernel_4772/1909175804.py\u001b[0m in \u001b[0;36m<module>\u001b[1;34m\u001b[0m\n\u001b[0;32m      1\u001b[0m \u001b[1;31m# call plot in interactive Bokeh server\u001b[0m\u001b[1;33m\u001b[0m\u001b[1;33m\u001b[0m\u001b[0m\n\u001b[1;32m----> 2\u001b[1;33m \u001b[0mcurdoc\u001b[0m\u001b[1;33m(\u001b[0m\u001b[1;33m)\u001b[0m\u001b[1;33m.\u001b[0m\u001b[0madd_root\u001b[0m\u001b[1;33m(\u001b[0m\u001b[0mfinal_layout\u001b[0m\u001b[1;33m)\u001b[0m\u001b[1;33m\u001b[0m\u001b[1;33m\u001b[0m\u001b[0m\n\u001b[0m\u001b[0;32m      3\u001b[0m \u001b[0mcurdoc\u001b[0m\u001b[1;33m(\u001b[0m\u001b[1;33m)\u001b[0m\u001b[1;33m.\u001b[0m\u001b[0mtitle\u001b[0m \u001b[1;33m=\u001b[0m \u001b[1;34m'Fertility and Life Expectancy 1964 - 2013'\u001b[0m\u001b[1;33m\u001b[0m\u001b[1;33m\u001b[0m\u001b[0m\n",
      "\u001b[1;32m~\\anaconda3\\lib\\site-packages\\bokeh\\document\\document.py\u001b[0m in \u001b[0;36madd_root\u001b[1;34m(self, model, setter)\u001b[0m\n\u001b[0;32m    321\u001b[0m \u001b[1;33m\u001b[0m\u001b[0m\n\u001b[0;32m    322\u001b[0m         \u001b[1;32mwith\u001b[0m \u001b[0mself\u001b[0m\u001b[1;33m.\u001b[0m\u001b[0mmodels\u001b[0m\u001b[1;33m.\u001b[0m\u001b[0mfreeze\u001b[0m\u001b[1;33m(\u001b[0m\u001b[1;33m)\u001b[0m\u001b[1;33m:\u001b[0m\u001b[1;33m\u001b[0m\u001b[1;33m\u001b[0m\u001b[0m\n\u001b[1;32m--> 323\u001b[1;33m             \u001b[0mself\u001b[0m\u001b[1;33m.\u001b[0m\u001b[0m_roots\u001b[0m\u001b[1;33m.\u001b[0m\u001b[0mappend\u001b[0m\u001b[1;33m(\u001b[0m\u001b[0mmodel\u001b[0m\u001b[1;33m)\u001b[0m\u001b[1;33m\u001b[0m\u001b[1;33m\u001b[0m\u001b[0m\n\u001b[0m\u001b[0;32m    324\u001b[0m \u001b[1;33m\u001b[0m\u001b[0m\n\u001b[0;32m    325\u001b[0m         \u001b[0mself\u001b[0m\u001b[1;33m.\u001b[0m\u001b[0mcallbacks\u001b[0m\u001b[1;33m.\u001b[0m\u001b[0mtrigger_on_change\u001b[0m\u001b[1;33m(\u001b[0m\u001b[0mRootAddedEvent\u001b[0m\u001b[1;33m(\u001b[0m\u001b[0mself\u001b[0m\u001b[1;33m,\u001b[0m \u001b[0mmodel\u001b[0m\u001b[1;33m,\u001b[0m \u001b[0msetter\u001b[0m\u001b[1;33m)\u001b[0m\u001b[1;33m)\u001b[0m\u001b[1;33m\u001b[0m\u001b[1;33m\u001b[0m\u001b[0m\n",
      "\u001b[1;32m~\\anaconda3\\lib\\contextlib.py\u001b[0m in \u001b[0;36m__exit__\u001b[1;34m(self, typ, value, traceback)\u001b[0m\n\u001b[0;32m    124\u001b[0m         \u001b[1;32mif\u001b[0m \u001b[0mtyp\u001b[0m \u001b[1;32mis\u001b[0m \u001b[1;32mNone\u001b[0m\u001b[1;33m:\u001b[0m\u001b[1;33m\u001b[0m\u001b[1;33m\u001b[0m\u001b[0m\n\u001b[0;32m    125\u001b[0m             \u001b[1;32mtry\u001b[0m\u001b[1;33m:\u001b[0m\u001b[1;33m\u001b[0m\u001b[1;33m\u001b[0m\u001b[0m\n\u001b[1;32m--> 126\u001b[1;33m                 \u001b[0mnext\u001b[0m\u001b[1;33m(\u001b[0m\u001b[0mself\u001b[0m\u001b[1;33m.\u001b[0m\u001b[0mgen\u001b[0m\u001b[1;33m)\u001b[0m\u001b[1;33m\u001b[0m\u001b[1;33m\u001b[0m\u001b[0m\n\u001b[0m\u001b[0;32m    127\u001b[0m             \u001b[1;32mexcept\u001b[0m \u001b[0mStopIteration\u001b[0m\u001b[1;33m:\u001b[0m\u001b[1;33m\u001b[0m\u001b[1;33m\u001b[0m\u001b[0m\n\u001b[0;32m    128\u001b[0m                 \u001b[1;32mreturn\u001b[0m \u001b[1;32mFalse\u001b[0m\u001b[1;33m\u001b[0m\u001b[1;33m\u001b[0m\u001b[0m\n",
      "\u001b[1;32m~\\anaconda3\\lib\\site-packages\\bokeh\\document\\models.py\u001b[0m in \u001b[0;36mfreeze\u001b[1;34m(self)\u001b[0m\n\u001b[0;32m    128\u001b[0m         \u001b[0mself\u001b[0m\u001b[1;33m.\u001b[0m\u001b[0m_push_freeze\u001b[0m\u001b[1;33m(\u001b[0m\u001b[1;33m)\u001b[0m\u001b[1;33m\u001b[0m\u001b[1;33m\u001b[0m\u001b[0m\n\u001b[0;32m    129\u001b[0m         \u001b[1;32myield\u001b[0m\u001b[1;33m\u001b[0m\u001b[1;33m\u001b[0m\u001b[0m\n\u001b[1;32m--> 130\u001b[1;33m         \u001b[0mself\u001b[0m\u001b[1;33m.\u001b[0m\u001b[0m_pop_freeze\u001b[0m\u001b[1;33m(\u001b[0m\u001b[1;33m)\u001b[0m\u001b[1;33m\u001b[0m\u001b[1;33m\u001b[0m\u001b[0m\n\u001b[0m\u001b[0;32m    131\u001b[0m \u001b[1;33m\u001b[0m\u001b[0m\n\u001b[0;32m    132\u001b[0m     \u001b[1;32mdef\u001b[0m \u001b[0mget_all_by_name\u001b[0m\u001b[1;33m(\u001b[0m\u001b[0mself\u001b[0m\u001b[1;33m,\u001b[0m \u001b[0mname\u001b[0m\u001b[1;33m:\u001b[0m \u001b[0mstr\u001b[0m\u001b[1;33m)\u001b[0m \u001b[1;33m->\u001b[0m \u001b[0mlist\u001b[0m\u001b[1;33m[\u001b[0m\u001b[0mModel\u001b[0m\u001b[1;33m]\u001b[0m\u001b[1;33m:\u001b[0m\u001b[1;33m\u001b[0m\u001b[1;33m\u001b[0m\u001b[0m\n",
      "\u001b[1;32m~\\anaconda3\\lib\\site-packages\\bokeh\\document\\models.py\u001b[0m in \u001b[0;36m_pop_freeze\u001b[1;34m(self)\u001b[0m\n\u001b[0;32m    278\u001b[0m         \u001b[0mself\u001b[0m\u001b[1;33m.\u001b[0m\u001b[0m_freeze_count\u001b[0m \u001b[1;33m-=\u001b[0m \u001b[1;36m1\u001b[0m\u001b[1;33m\u001b[0m\u001b[1;33m\u001b[0m\u001b[0m\n\u001b[0;32m    279\u001b[0m         \u001b[1;32mif\u001b[0m \u001b[0mself\u001b[0m\u001b[1;33m.\u001b[0m\u001b[0m_freeze_count\u001b[0m \u001b[1;33m==\u001b[0m \u001b[1;36m0\u001b[0m\u001b[1;33m:\u001b[0m\u001b[1;33m\u001b[0m\u001b[1;33m\u001b[0m\u001b[0m\n\u001b[1;32m--> 280\u001b[1;33m             \u001b[0mself\u001b[0m\u001b[1;33m.\u001b[0m\u001b[0mrecompute\u001b[0m\u001b[1;33m(\u001b[0m\u001b[1;33m)\u001b[0m\u001b[1;33m\u001b[0m\u001b[1;33m\u001b[0m\u001b[0m\n\u001b[0m\u001b[0;32m    281\u001b[0m \u001b[1;33m\u001b[0m\u001b[0m\n\u001b[0;32m    282\u001b[0m \u001b[1;31m#-----------------------------------------------------------------------------\u001b[0m\u001b[1;33m\u001b[0m\u001b[1;33m\u001b[0m\u001b[0m\n",
      "\u001b[1;32m~\\anaconda3\\lib\\site-packages\\bokeh\\document\\models.py\u001b[0m in \u001b[0;36mrecompute\u001b[1;34m(self)\u001b[0m\n\u001b[0;32m    225\u001b[0m \u001b[1;33m\u001b[0m\u001b[0m\n\u001b[0;32m    226\u001b[0m         \u001b[1;32mfor\u001b[0m \u001b[0mma\u001b[0m \u001b[1;32min\u001b[0m \u001b[0mto_attach\u001b[0m\u001b[1;33m:\u001b[0m\u001b[1;33m\u001b[0m\u001b[1;33m\u001b[0m\u001b[0m\n\u001b[1;32m--> 227\u001b[1;33m             \u001b[0mma\u001b[0m\u001b[1;33m.\u001b[0m\u001b[0m_attach_document\u001b[0m\u001b[1;33m(\u001b[0m\u001b[0mdocument\u001b[0m\u001b[1;33m)\u001b[0m\u001b[1;33m\u001b[0m\u001b[1;33m\u001b[0m\u001b[0m\n\u001b[0m\u001b[0;32m    228\u001b[0m             \u001b[0mself\u001b[0m\u001b[1;33m.\u001b[0m\u001b[0m_new_models\u001b[0m\u001b[1;33m.\u001b[0m\u001b[0madd\u001b[0m\u001b[1;33m(\u001b[0m\u001b[0mma\u001b[0m\u001b[1;33m)\u001b[0m\u001b[1;33m\u001b[0m\u001b[1;33m\u001b[0m\u001b[0m\n\u001b[0;32m    229\u001b[0m \u001b[1;33m\u001b[0m\u001b[0m\n",
      "\u001b[1;32m~\\anaconda3\\lib\\site-packages\\bokeh\\model\\model.py\u001b[0m in \u001b[0;36m_attach_document\u001b[1;34m(self, doc)\u001b[0m\n\u001b[0;32m    578\u001b[0m \u001b[1;33m\u001b[0m\u001b[0m\n\u001b[0;32m    579\u001b[0m         \u001b[1;32mif\u001b[0m \u001b[0mself\u001b[0m\u001b[1;33m.\u001b[0m\u001b[0mdocument\u001b[0m \u001b[1;32mis\u001b[0m \u001b[1;32mnot\u001b[0m \u001b[1;32mNone\u001b[0m\u001b[1;33m:\u001b[0m\u001b[1;33m\u001b[0m\u001b[1;33m\u001b[0m\u001b[0m\n\u001b[1;32m--> 580\u001b[1;33m             \u001b[1;32mraise\u001b[0m \u001b[0mRuntimeError\u001b[0m\u001b[1;33m(\u001b[0m\u001b[1;34mf\"Models must be owned by only a single document, {self!r} is already in a doc\"\u001b[0m\u001b[1;33m)\u001b[0m\u001b[1;33m\u001b[0m\u001b[1;33m\u001b[0m\u001b[0m\n\u001b[0m\u001b[0;32m    581\u001b[0m \u001b[1;33m\u001b[0m\u001b[0m\n\u001b[0;32m    582\u001b[0m         \u001b[0mdoc\u001b[0m\u001b[1;33m.\u001b[0m\u001b[0mtheme\u001b[0m\u001b[1;33m.\u001b[0m\u001b[0mapply_to_model\u001b[0m\u001b[1;33m(\u001b[0m\u001b[0mself\u001b[0m\u001b[1;33m)\u001b[0m\u001b[1;33m\u001b[0m\u001b[1;33m\u001b[0m\u001b[0m\n",
      "\u001b[1;31mRuntimeError\u001b[0m: Models must be owned by only a single document, ColumnDataSource(id='p10205', ...) is already in a doc"
     ]
    }
   ],
   "source": [
    "# call plot in interactive Bokeh server\n",
    "curdoc().add_root(final_layout)\n",
    "curdoc().title = 'Fertility and Life Expectancy 1964 - 2013'"
   ]
  },
  {
   "cell_type": "code",
   "execution_count": null,
   "id": "9dac8335",
   "metadata": {},
   "outputs": [],
   "source": []
  }
 ],
 "metadata": {
  "kernelspec": {
   "display_name": "Python 3 (ipykernel)",
   "language": "python",
   "name": "python3"
  },
  "language_info": {
   "codemirror_mode": {
    "name": "ipython",
    "version": 3
   },
   "file_extension": ".py",
   "mimetype": "text/x-python",
   "name": "python",
   "nbconvert_exporter": "python",
   "pygments_lexer": "ipython3",
   "version": "3.9.7"
  }
 },
 "nbformat": 4,
 "nbformat_minor": 5
}
